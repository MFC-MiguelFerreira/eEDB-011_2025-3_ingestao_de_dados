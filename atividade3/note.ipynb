{
 "cells": [
  {
   "cell_type": "code",
   "execution_count": 1,
   "id": "d7654b38",
   "metadata": {},
   "outputs": [],
   "source": [
    "# Import SparkSession\n",
    "from pyspark.sql import SparkSession\n",
    "from pyspark.sql import functions as Func\n",
    "\n",
    "# Create SparkSession \n",
    "spark = SparkSession.builder \\\n",
    "      .master(\"local[1]\") \\\n",
    "      .appName(\"dataframes\") \\\n",
    "      .getOrCreate()"
   ]
  },
  {
   "cell_type": "code",
   "execution_count": 2,
   "id": "c8c27db8",
   "metadata": {},
   "outputs": [
    {
     "name": "stdout",
     "output_type": "stream",
     "text": [
      "+-------+---+--------+\n",
      "|   Name| ID|    City|\n",
      "+-------+---+--------+\n",
      "|  Alice|  1|New York|\n",
      "|    Bob|  2|  London|\n",
      "|Charlie|  3|   Paris|\n",
      "|  David|  4|   Tokyo|\n",
      "+-------+---+--------+\n",
      "\n",
      "root\n",
      " |-- Name: string (nullable = true)\n",
      " |-- ID: long (nullable = true)\n",
      " |-- City: string (nullable = true)\n",
      "\n"
     ]
    }
   ],
   "source": [
    "# Sample data as a list of tuples\n",
    "data = [\n",
    "    (\"Alice\", 1, \"New York\"),\n",
    "    (\"Bob\", 2, \"London\"),\n",
    "    (\"Charlie\", 3, \"Paris\"),\n",
    "    (\"David\", 4, \"Tokyo\")\n",
    "]\n",
    "\n",
    "# Column names\n",
    "columns = [\"Name\", \"ID\", \"City\"]\n",
    "\n",
    "# Create the PySpark DataFrame\n",
    "df = spark.createDataFrame(data, columns)\n",
    "\n",
    "# Show the DataFrame\n",
    "df.show()\n",
    "\n",
    "# Print the schema of the DataFrame\n",
    "df.printSchema()"
   ]
  }
 ],
 "metadata": {
  "kernelspec": {
   "display_name": "vscode_pyspark",
   "language": "python",
   "name": "python3"
  },
  "language_info": {
   "codemirror_mode": {
    "name": "ipython",
    "version": 3
   },
   "file_extension": ".py",
   "mimetype": "text/x-python",
   "name": "python",
   "nbconvert_exporter": "python",
   "pygments_lexer": "ipython3",
   "version": "3.11.10"
  }
 },
 "nbformat": 4,
 "nbformat_minor": 5
}
