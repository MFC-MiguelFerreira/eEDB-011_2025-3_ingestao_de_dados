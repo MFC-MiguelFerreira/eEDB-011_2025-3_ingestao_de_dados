{
 "cells": [
  {
   "cell_type": "code",
   "execution_count": 1,
   "id": "82716408",
   "metadata": {},
   "outputs": [],
   "source": [
    "from pyspark.sql import SparkSession\n",
    "import logging\n",
    "import pyspark.sql.functions as f\n",
    "from pyspark.sql.functions import *\n",
    "from pyspark.sql.types import *"
   ]
  },
  {
   "cell_type": "code",
   "execution_count": 2,
   "id": "e38ef6eb",
   "metadata": {},
   "outputs": [],
   "source": [
    "if __name__ == \"__main__\":\n",
    "\n",
    "    logging.basicConfig(\n",
    "    format=\"%(asctime)s - %(levelname)s - %(message)s\", level=logging.INFO\n",
    "    )\n",
    "    log = logging.getLogger(__name__)   \n",
    "    \n",
    "    # Spark Session \n",
    "    spark = (\n",
    "        SparkSession.builder.master(\"local[1]\") \n",
    "        .appName(\"upload_to_trusted\")\n",
    "        .enableHiveSupport() \n",
    "        .config(\"mapreduce.fileoutputcommitter.marksuccessfuljobs\", \"false\") \n",
    "        .getOrCreate()\n",
    "    )"
   ]
  },
  {
   "cell_type": "code",
   "execution_count": 3,
   "id": "c397c3f3",
   "metadata": {},
   "outputs": [
    {
     "name": "stderr",
     "output_type": "stream",
     "text": [
      "2025-08-11 21:04:59,557 - INFO - Processing started...\n",
      "2025-08-11 21:04:59,561 - INFO - Reading bancos files...\n",
      "2025-08-11 21:05:03,210 - INFO - Reading glassdoor files...\n",
      "2025-08-11 21:05:03,528 - INFO - Reading reclamacoes files...\n"
     ]
    }
   ],
   "source": [
    "## Reading files \n",
    "log.info(\"Processing started...\")\n",
    "\n",
    "log.info(f\"Reading bancos files...\")\n",
    "\n",
    "df_bancos = spark.read.parquet(f'code/atividade3/data/trusted/bancos/*.parquet')\n",
    "#df_bancos.printSchema()\n",
    "\n",
    "log.info(f\"Reading glassdoor files...\")\n",
    "\n",
    "df_glassdoor = spark.read.parquet(f'code/atividade3/data/trusted/glassdoor/*.parquet')\n",
    "#df_glassdoor.printSchema()\n",
    "\n",
    "log.info(f\"Reading reclamacoes files...\")\n",
    "\n",
    "df_reclamacoes = spark.read.parquet(f'code/atividade3/data/trusted/reclamacoes/*.parquet')\n",
    "#df_reclamacoes.printSchema()\n"
   ]
  },
  {
   "cell_type": "code",
   "execution_count": null,
   "id": "b63d101c",
   "metadata": {},
   "outputs": [],
   "source": [
    "##Transforming \n",
    "\n",
    "log.info(f\"Transforming trusted files...\")\n",
    "\n",
    "log.info(f\"Joining dataframes...\")\n",
    "\n",
    "df_bancos_glassdoor = (\n",
    "    df_glassdoor.alias(\"g\")\n",
    "    .join(\n",
    "    df_bancos.alias(\"b\"),\n",
    "    (f.col(\"b.cnpj\") == f.col(\"g.cnpj\")) | (f.col(\"b.name\") == f.col(\"g.name\")),\n",
    "    \"inner\",\n",
    "    )\n",
    "    .drop(f.col(\"b.cnpj\"), f.col(\"b.name\"),f.col(\"b.segment\"))\n",
    "    .dropDuplicates()\n",
    ")\n",
    "\n",
    "df_bancos_glassdoor_reclamacoes = (\n",
    "    df_bancos_glassdoor.alias(\"bg\")\n",
    "    .join(\n",
    "    df_reclamacoes.alias(\"r\"),\n",
    "    (f.col(\"bg.cnpj\") == f.col(\"r.cnpj\")) | (f.col(\"bg.name\") == f.col(\"r.name\")),\n",
    "    \"inner\",\n",
    "    )\n",
    "    .drop(f.col(\"r.cnpj\"), f.col(\"r.name\"),f.col(\"r.segment\"))\n",
    "    .dropDuplicates()\n",
    ")"
   ]
  },
  {
   "cell_type": "code",
   "execution_count": null,
   "id": "7e4a5431",
   "metadata": {},
   "outputs": [],
   "source": [
    "##Writing output files\n",
    "\n",
    "log.info(f\"Writing delivery file...\")\n",
    "\n",
    "df_bancos_glassdoor_reclamacoes.coalesce(1) \\\n",
    "        .write \\\n",
    "        .format(\"parquet\") \\\n",
    "        .mode(\"overwrite\") \\\n",
    "        .save(\"../../data/delivery/\")\n",
    "\n",
    "\n"
   ]
  }
 ],
 "metadata": {
  "kernelspec": {
   "display_name": "vscode_pyspark",
   "language": "python",
   "name": "vscode_pyspark"
  },
  "language_info": {
   "codemirror_mode": {
    "name": "ipython",
    "version": 3
   },
   "file_extension": ".py",
   "mimetype": "text/x-python",
   "name": "python",
   "nbconvert_exporter": "python",
   "pygments_lexer": "ipython3",
   "version": "3.11.13"
  }
 },
 "nbformat": 4,
 "nbformat_minor": 5
}
