{
 "cells": [
  {
   "cell_type": "code",
   "execution_count": 27,
   "id": "cc3df9b7",
   "metadata": {},
   "outputs": [],
   "source": [
    "import great_expectations as gx\n",
    "\n",
    "context = gx.get_context()"
   ]
  },
  {
   "cell_type": "markdown",
   "id": "e7f7643d",
   "metadata": {},
   "source": [
    "# Data Source"
   ]
  },
  {
   "cell_type": "code",
   "execution_count": 28,
   "id": "840f8bbb",
   "metadata": {},
   "outputs": [],
   "source": [
    "source_data_source = context.data_sources.add_pandas_filesystem(name=\"source\", base_directory=\"./datalake/source/\")\n",
    "raw_data_source = context.data_sources.add_pandas_filesystem(name=\"raw\", base_directory=\"./datalake/raw/\")\n",
    "trusted_data_source = context.data_sources.add_pandas_filesystem(name=\"trusted\", base_directory=\"./datalake/trusted/\")\n",
    "delivery_data_source = context.data_sources.add_pandas_filesystem(name=\"delivery\", base_directory=\"./datalake/delivery/\")"
   ]
  },
  {
   "cell_type": "markdown",
   "id": "899ef2ad",
   "metadata": {},
   "source": [
    "## Data Assets"
   ]
  },
  {
   "cell_type": "code",
   "execution_count": 29,
   "id": "175c5f52",
   "metadata": {},
   "outputs": [],
   "source": [
    "raw_bancos = raw_data_source.add_parquet_asset(name=\"raw_bancos\", glob_directive=\"bancos/*.parquet\")\n",
    "raw_glassdoor = raw_data_source.add_parquet_asset(name=\"raw_glassdoor\", glob_directive=\"glassdoor/*.parquet\")\n",
    "raw_reclamacoes = raw_data_source.add_parquet_asset(name=\"raw_reclamacoes\", glob_directive=\"reclamacoes/*.parquet\")"
   ]
  },
  {
   "cell_type": "code",
   "execution_count": 30,
   "id": "94f5b6a4",
   "metadata": {},
   "outputs": [],
   "source": [
    "trusted_bancos = trusted_data_source.add_parquet_asset(name=\"trusted_bancos\", glob_directive=\"bancos/*.parquet\")\n",
    "trusted_glassdoor = trusted_data_source.add_parquet_asset(name=\"trusted_glassdoor\", glob_directive=\"glassdoor/*.parquet\")\n",
    "trusted_reclamacoes = trusted_data_source.add_parquet_asset(name=\"trusted_reclamacoes\", glob_directive=\"reclamacoes/*.parquet\")"
   ]
  },
  {
   "cell_type": "code",
   "execution_count": 31,
   "id": "3175b1c2",
   "metadata": {},
   "outputs": [],
   "source": [
    "delivery = delivery_data_source.add_parquet_asset(name=\"delivery\", glob_directive=\"*.parquet\")"
   ]
  },
  {
   "cell_type": "markdown",
   "id": "ba896239",
   "metadata": {},
   "source": [
    "## Batch Definition"
   ]
  },
  {
   "cell_type": "code",
   "execution_count": 32,
   "id": "132e6d52",
   "metadata": {},
   "outputs": [],
   "source": [
    "raw_bancos_batch_definition = raw_bancos.add_batch_definition(name=\"raw_bancos\")\n",
    "raw_glassdoor_batch_definition = raw_glassdoor.add_batch_definition(name=\"raw_glassdoor\")\n",
    "raw_reclamacoes_batch_definition = raw_reclamacoes.add_batch_definition(name=\"raw_reclamacoes\")"
   ]
  },
  {
   "cell_type": "code",
   "execution_count": 33,
   "id": "33bb6561",
   "metadata": {},
   "outputs": [],
   "source": [
    "trusted_bancos_batch_definition = trusted_bancos.add_batch_definition(name=\"trusted_bancos\")\n",
    "trusted_glassdoor_batch_definition = trusted_glassdoor.add_batch_definition(name=\"trusted_glassdoor\")\n",
    "trusted_reclamacoes_batch_definition = trusted_reclamacoes.add_batch_definition(name=\"trusted_reclamacoes\")"
   ]
  },
  {
   "cell_type": "code",
   "execution_count": 34,
   "id": "120ae616",
   "metadata": {},
   "outputs": [],
   "source": [
    "delivery_batch_definition = delivery.add_batch_definition(name=\"delivery\")"
   ]
  },
  {
   "cell_type": "markdown",
   "id": "89c8c1b0",
   "metadata": {},
   "source": [
    "# Expectation"
   ]
  },
  {
   "cell_type": "markdown",
   "id": "2d9880b5",
   "metadata": {},
   "source": [
    "## Raw"
   ]
  },
  {
   "cell_type": "code",
   "execution_count": 35,
   "id": "89b2c6a5",
   "metadata": {},
   "outputs": [
    {
     "data": {
      "text/plain": [
       "ExpectTableColumnCountToBeBetween(id='13a84e20-817a-48b1-8cce-af75f18d86fd', meta=None, notes=None, result_format=<ResultFormat.BASIC: 'BASIC'>, description=None, catch_exceptions=False, rendered_content=None, severity=<FailureSeverity.CRITICAL: 'critical'>, windows=None, batch_id=None, min_value=1.0, max_value=None)"
      ]
     },
     "execution_count": 35,
     "metadata": {},
     "output_type": "execute_result"
    }
   ],
   "source": [
    "raw_suite = gx.ExpectationSuite(name=\"raw_suite\")\n",
    "context.suites.add(raw_suite)\n",
    "\n",
    "raw_suite.add_expectation(gx.expectations.ExpectTableRowCountToBeBetween(min_value=1))\n",
    "raw_suite.add_expectation(gx.expectations.ExpectTableColumnCountToBeBetween(min_value=1))"
   ]
  },
  {
   "cell_type": "code",
   "execution_count": 36,
   "id": "d405fcad",
   "metadata": {},
   "outputs": [],
   "source": [
    "# raw_bancos_batch_definition.validate(raw_suite)\n",
    "# raw_glassdoor_batch_definition.validate(raw_suite)\n",
    "# raw_reclamacoes_batch_definition.validate(raw_suite)"
   ]
  },
  {
   "cell_type": "markdown",
   "id": "2d19fda9",
   "metadata": {},
   "source": [
    "## Trusted"
   ]
  },
  {
   "cell_type": "markdown",
   "id": "78fb56a0",
   "metadata": {},
   "source": [
    "### Bancos"
   ]
  },
  {
   "cell_type": "code",
   "execution_count": 37,
   "id": "4eff0251",
   "metadata": {},
   "outputs": [
    {
     "data": {
      "text/plain": [
       "ExpectColumnValuesToBeUnique(id='34077452-9631-477e-b78d-661912d9b173', meta=None, notes=None, result_format=<ResultFormat.BASIC: 'BASIC'>, description=None, catch_exceptions=True, rendered_content=None, severity=<FailureSeverity.CRITICAL: 'critical'>, windows=None, batch_id=None, column='cnpj', mostly=1, row_condition=None, condition_parser=None)"
      ]
     },
     "execution_count": 37,
     "metadata": {},
     "output_type": "execute_result"
    }
   ],
   "source": [
    "trusted_bancos_suite = gx.ExpectationSuite(name=\"trusted_bancos_suite\")\n",
    "context.suites.add(trusted_bancos_suite)\n",
    "\n",
    "# General checks\n",
    "trusted_bancos_suite.add_expectation(gx.expectations.ExpectTableRowCountToBeBetween(min_value=1))\n",
    "trusted_bancos_suite.add_expectation(gx.expectations.ExpectTableColumnCountToBeBetween(min_value=3, max_value=3))\n",
    "\n",
    "# Column-specific checks\n",
    "trusted_bancos_suite.add_expectation(gx.expectations.ExpectColumnValuesToNotBeNull(column=\"segment\"))\n",
    "trusted_bancos_suite.add_expectation(gx.expectations.ExpectColumnValuesToNotBeNull(column=\"cnpj\"))\n",
    "trusted_bancos_suite.add_expectation(gx.expectations.ExpectColumnValuesToNotBeNull(column=\"name\"))\n",
    "trusted_bancos_suite.add_expectation(gx.expectations.ExpectColumnValuesToBeUnique(column=\"cnpj\"))"
   ]
  },
  {
   "cell_type": "code",
   "execution_count": 38,
   "id": "ca236452",
   "metadata": {},
   "outputs": [],
   "source": [
    "# trusted_bancos_batch_definition.validate(trusted_bancos_suite)"
   ]
  },
  {
   "cell_type": "markdown",
   "id": "959e6d37",
   "metadata": {},
   "source": [
    "### glassdoor"
   ]
  },
  {
   "cell_type": "code",
   "execution_count": 39,
   "id": "feb67236",
   "metadata": {},
   "outputs": [],
   "source": [
    "trusted_glassdoor_suite = gx.ExpectationSuite(name=\"trusted_glassdoor_suite\")\n",
    "context.suites.add(trusted_glassdoor_suite)\n",
    "\n",
    "trusted_glassdoor_suite.add_expectation(gx.expectations.ExpectTableRowCountToBeBetween(min_value=1))\n",
    "trusted_glassdoor_suite.add_expectation(gx.expectations.ExpectTableColumnCountToBeBetween(min_value=17, max_value=17))\n",
    "\n",
    "for col in [\"name\", \"segment\", \"revenue\"]:\n",
    "    trusted_glassdoor_suite.add_expectation(gx.expectations.ExpectColumnValuesToNotBeNull(column=col))\n",
    "\n",
    "for col in [\"reviews_count\", \"culture_count\", \"salaries_count\", \"benefits_count\"]:\n",
    "    trusted_glassdoor_suite.add_expectation(gx.expectations.ExpectColumnValuesToBeBetween(column=col, min_value=0))\n",
    "\n",
    "for col in [\n",
    "    \"culture_score\", \"diversity_score\", \"quality_of_life_score\",\n",
    "    \"leadership_score\", \"compensation_score\", \"career_opportunities_score\"\n",
    "]:\n",
    "    trusted_glassdoor_suite.add_expectation(gx.expectations.ExpectColumnValuesToBeBetween(column=col, min_value=0, max_value=5))\n",
    "\n",
    "for col in [\"recommend_percent\", \"positive_outlook_percent\", \"match_percent\"]:\n",
    "    trusted_glassdoor_suite.add_expectation(gx.expectations.ExpectColumnValuesToBeBetween(column=col, min_value=0, max_value=100))"
   ]
  },
  {
   "cell_type": "code",
   "execution_count": 40,
   "id": "69d325a8",
   "metadata": {},
   "outputs": [],
   "source": [
    "# trusted_glassdoor_batch_definition.validate(trusted_glassdoor_suite)"
   ]
  },
  {
   "cell_type": "markdown",
   "id": "27db4665",
   "metadata": {},
   "source": [
    "### reclamacoes"
   ]
  },
  {
   "cell_type": "code",
   "execution_count": 41,
   "id": "1029ce28",
   "metadata": {},
   "outputs": [],
   "source": [
    "trusted_reclamacoes_suite = gx.ExpectationSuite(name=\"trusted_reclamacoes_suite\")\n",
    "context.suites.add(trusted_reclamacoes_suite)\n",
    "\n",
    "trusted_reclamacoes_suite.add_expectation(gx.expectations.ExpectTableRowCountToBeBetween(min_value=1))\n",
    "trusted_reclamacoes_suite.add_expectation(gx.expectations.ExpectTableColumnCountToBeBetween(min_value=14, max_value=14))\n",
    "\n",
    "for col in [\"cnpj\", \"name\", \"category\", \"type\", \"quarter\", \"year\"]:\n",
    "    trusted_reclamacoes_suite.add_expectation(gx.expectations.ExpectColumnValuesToNotBeNull(column=col))\n",
    "\n",
    "trusted_reclamacoes_suite.add_expectation(gx.expectations.ExpectColumnValuesToBeBetween(column=\"year\", min_value=2000))\n",
    "\n",
    "for col in [\n",
    "    \"regulated_complaints_upheld\", \"regulated_complaints_other\", \"unregulated_complaints\", \"total_complaints\"\n",
    "]:\n",
    "    trusted_reclamacoes_suite.add_expectation(gx.expectations.ExpectColumnValuesToBeBetween(column=col, min_value=0))\n",
    "\n",
    "for col in [\"total_clients_ccs_scr\", \"clients_ccs\", \"clients_scr\"]:\n",
    "    trusted_reclamacoes_suite.add_expectation(gx.expectations.ExpectColumnValuesToBeBetween(column=col, min_value=0))"
   ]
  },
  {
   "cell_type": "code",
   "execution_count": 42,
   "id": "442d1feb",
   "metadata": {},
   "outputs": [],
   "source": [
    "# trusted_reclamacoes_batch_definition.validate(trusted_reclamacoes_suite)"
   ]
  },
  {
   "cell_type": "markdown",
   "id": "df1c9301",
   "metadata": {},
   "source": [
    "## delivery"
   ]
  },
  {
   "cell_type": "code",
   "execution_count": 43,
   "id": "f32403ba",
   "metadata": {},
   "outputs": [
    {
     "data": {
      "text/plain": [
       "ExpectColumnValuesToBeBetween(id='8b6ca3b9-50d9-41a7-9aac-f0795a99caf9', meta=None, notes=None, result_format=<ResultFormat.BASIC: 'BASIC'>, description=None, catch_exceptions=True, rendered_content=None, severity=<FailureSeverity.CRITICAL: 'critical'>, windows=None, batch_id=None, column='salaries_count', mostly=1, row_condition=None, condition_parser=None, min_value=0.0, max_value=None, strict_min=False, strict_max=False)"
      ]
     },
     "execution_count": 43,
     "metadata": {},
     "output_type": "execute_result"
    }
   ],
   "source": [
    "delivery_suite = gx.ExpectationSuite(name=\"delivery_suite\")\n",
    "context.suites.add(delivery_suite)\n",
    "\n",
    "delivery_suite.add_expectation(gx.expectations.ExpectColumnValuesToNotBeNull(column=\"cnpj\"),)\n",
    "delivery_suite.add_expectation(gx.expectations.ExpectCompoundColumnsToBeUnique(column_list=[\"cnpj\", \"year\", \"quarter\"]))\n",
    "delivery_suite.add_expectation(gx.expectations.ExpectColumnMostCommonValueToBeInSet(column=\"segment\", value_set=[\"S1\", \"S2\", \"S3\"]))\n",
    "delivery_suite.add_expectation(gx.expectations.ExpectColumnValuesToBeBetween(column=\"culture_score\", min_value=0, max_value=5))\n",
    "delivery_suite.add_expectation(gx.expectations.ExpectColumnValuesToBeBetween(column=\"diversity_score\", min_value=0, max_value=5))\n",
    "delivery_suite.add_expectation(gx.expectations.ExpectColumnValuesToBeBetween(column=\"quality_of_life_score\", min_value=0, max_value=5))\n",
    "delivery_suite.add_expectation(gx.expectations.ExpectColumnValuesToBeBetween(column=\"leadership_score\", min_value=0, max_value=5))\n",
    "delivery_suite.add_expectation(gx.expectations.ExpectColumnValuesToBeBetween(column=\"compensation_score\", min_value=0, max_value=5))\n",
    "delivery_suite.add_expectation(gx.expectations.ExpectColumnValuesToBeBetween(column=\"career_opportunities_score\", min_value=0, max_value=5))\n",
    "delivery_suite.add_expectation(gx.expectations.ExpectColumnValuesToBeBetween(column=\"reviews_count\", min_value=0))\n",
    "delivery_suite.add_expectation(gx.expectations.ExpectColumnValuesToBeBetween(column=\"culture_count\", min_value=0))\n",
    "delivery_suite.add_expectation(gx.expectations.ExpectColumnValuesToBeBetween(column=\"salaries_count\", min_value=0))"
   ]
  },
  {
   "cell_type": "code",
   "execution_count": 44,
   "id": "5e8f8e03",
   "metadata": {},
   "outputs": [],
   "source": [
    "# delivery_batch_definition.validate(delivery_suite)"
   ]
  },
  {
   "cell_type": "markdown",
   "id": "4f4d8243",
   "metadata": {},
   "source": [
    "# Documents"
   ]
  },
  {
   "cell_type": "code",
   "execution_count": 45,
   "id": "121a0abb",
   "metadata": {},
   "outputs": [],
   "source": [
    "from pathlib import Path"
   ]
  },
  {
   "cell_type": "code",
   "execution_count": 46,
   "id": "ce74c01f",
   "metadata": {},
   "outputs": [
    {
     "data": {
      "text/plain": [
       "'/home/miguel/Documents/programming/mba/ingestao de dados/eEDB-011_2025-3_ingestao_de_dados_atividade5/atividade5/great_expectations/data_docs/local_site'"
      ]
     },
     "execution_count": 46,
     "metadata": {},
     "output_type": "execute_result"
    }
   ],
   "source": [
    "base_directory = str(Path().resolve() / \"great_expectations/data_docs/local_site/\")\n",
    "base_directory"
   ]
  },
  {
   "cell_type": "code",
   "execution_count": 47,
   "id": "2c6cd92a",
   "metadata": {},
   "outputs": [
    {
     "data": {
      "text/plain": [
       "{'atividade5_docs': 'file:///home/miguel/Documents/programming/mba/ingestao de dados/eEDB-011_2025-3_ingestao_de_dados_atividade5/atividade5/great_expectations/data_docs/local_site/index.html'}"
      ]
     },
     "execution_count": 47,
     "metadata": {},
     "output_type": "execute_result"
    }
   ],
   "source": [
    "site_config = {\n",
    "    \"class_name\": \"SiteBuilder\",\n",
    "    \"site_index_builder\": {\"class_name\": \"DefaultSiteIndexBuilder\"},\n",
    "    \"store_backend\": {\n",
    "        \"class_name\": \"TupleFilesystemStoreBackend\",\n",
    "        \"base_directory\": base_directory,\n",
    "    },\n",
    "}\n",
    "\n",
    "site_name = \"atividade5_docs\"\n",
    "context.add_data_docs_site(site_name=site_name, site_config=site_config)\n",
    "context.build_data_docs(site_names=site_name)"
   ]
  },
  {
   "cell_type": "markdown",
   "id": "6c13640e",
   "metadata": {},
   "source": [
    "## Checkpoints"
   ]
  },
  {
   "cell_type": "code",
   "execution_count": 55,
   "id": "27976109",
   "metadata": {},
   "outputs": [
    {
     "data": {
      "text/plain": [
       "ValidationDefinition(name='delivery', data=BatchDefinition(id=UUID('a367553a-ac1d-4ba9-9561-f5fd3b12d588'), name='delivery', partitioner=None), suite={\n",
       "  \"name\": \"delivery_suite\",\n",
       "  \"id\": \"c1b5b90d-aa9c-4d1e-9295-9a0e4465cc82\",\n",
       "  \"expectations\": [\n",
       "    {\n",
       "      \"type\": \"expect_column_values_to_not_be_null\",\n",
       "      \"kwargs\": {\n",
       "        \"column\": \"cnpj\"\n",
       "      },\n",
       "      \"meta\": {},\n",
       "      \"id\": \"48810e49-74c1-483f-bee9-6999016da132\"\n",
       "    },\n",
       "    {\n",
       "      \"type\": \"expect_compound_columns_to_be_unique\",\n",
       "      \"kwargs\": {\n",
       "        \"column_list\": [\n",
       "          \"cnpj\",\n",
       "          \"year\",\n",
       "          \"quarter\"\n",
       "        ]\n",
       "      },\n",
       "      \"meta\": {},\n",
       "      \"id\": \"17c58dbf-bb10-43cb-818e-f9f6bb2fa19a\"\n",
       "    },\n",
       "    {\n",
       "      \"type\": \"expect_column_most_common_value_to_be_in_set\",\n",
       "      \"kwargs\": {\n",
       "        \"column\": \"segment\",\n",
       "        \"value_set\": [\n",
       "          \"S1\",\n",
       "          \"S2\",\n",
       "          \"S3\"\n",
       "        ]\n",
       "      },\n",
       "      \"meta\": {},\n",
       "      \"id\": \"78aef317-b70a-4dcc-9968-2743aec6fa59\"\n",
       "    },\n",
       "    {\n",
       "      \"type\": \"expect_column_values_to_be_between\",\n",
       "      \"kwargs\": {\n",
       "        \"column\": \"culture_score\",\n",
       "        \"min_value\": 0.0,\n",
       "        \"max_value\": 5.0\n",
       "      },\n",
       "      \"meta\": {},\n",
       "      \"id\": \"85d87ed1-c427-4e6e-87fd-5798405b368e\"\n",
       "    },\n",
       "    {\n",
       "      \"type\": \"expect_column_values_to_be_between\",\n",
       "      \"kwargs\": {\n",
       "        \"column\": \"diversity_score\",\n",
       "        \"min_value\": 0.0,\n",
       "        \"max_value\": 5.0\n",
       "      },\n",
       "      \"meta\": {},\n",
       "      \"id\": \"58d58407-db5a-43ef-a28b-e5914e8351f7\"\n",
       "    },\n",
       "    {\n",
       "      \"type\": \"expect_column_values_to_be_between\",\n",
       "      \"kwargs\": {\n",
       "        \"column\": \"quality_of_life_score\",\n",
       "        \"min_value\": 0.0,\n",
       "        \"max_value\": 5.0\n",
       "      },\n",
       "      \"meta\": {},\n",
       "      \"id\": \"1f232315-612e-4d71-9391-b6ff03752851\"\n",
       "    },\n",
       "    {\n",
       "      \"type\": \"expect_column_values_to_be_between\",\n",
       "      \"kwargs\": {\n",
       "        \"column\": \"leadership_score\",\n",
       "        \"min_value\": 0.0,\n",
       "        \"max_value\": 5.0\n",
       "      },\n",
       "      \"meta\": {},\n",
       "      \"id\": \"7f28f55d-01d1-4386-971d-8e94131cf7cb\"\n",
       "    },\n",
       "    {\n",
       "      \"type\": \"expect_column_values_to_be_between\",\n",
       "      \"kwargs\": {\n",
       "        \"column\": \"compensation_score\",\n",
       "        \"min_value\": 0.0,\n",
       "        \"max_value\": 5.0\n",
       "      },\n",
       "      \"meta\": {},\n",
       "      \"id\": \"2f01dfb6-948b-4b64-a664-b6725e00d120\"\n",
       "    },\n",
       "    {\n",
       "      \"type\": \"expect_column_values_to_be_between\",\n",
       "      \"kwargs\": {\n",
       "        \"column\": \"career_opportunities_score\",\n",
       "        \"min_value\": 0.0,\n",
       "        \"max_value\": 5.0\n",
       "      },\n",
       "      \"meta\": {},\n",
       "      \"id\": \"015e9d19-7306-48cd-af6b-7eaeb0d2bd32\"\n",
       "    },\n",
       "    {\n",
       "      \"type\": \"expect_column_values_to_be_between\",\n",
       "      \"kwargs\": {\n",
       "        \"column\": \"reviews_count\",\n",
       "        \"min_value\": 0.0\n",
       "      },\n",
       "      \"meta\": {},\n",
       "      \"id\": \"8839e044-5a5b-4a67-bc2b-50f3f3c0011e\"\n",
       "    },\n",
       "    {\n",
       "      \"type\": \"expect_column_values_to_be_between\",\n",
       "      \"kwargs\": {\n",
       "        \"column\": \"culture_count\",\n",
       "        \"min_value\": 0.0\n",
       "      },\n",
       "      \"meta\": {},\n",
       "      \"id\": \"3492d346-fa8e-434a-8d91-6f0982aba617\"\n",
       "    },\n",
       "    {\n",
       "      \"type\": \"expect_column_values_to_be_between\",\n",
       "      \"kwargs\": {\n",
       "        \"column\": \"salaries_count\",\n",
       "        \"min_value\": 0.0\n",
       "      },\n",
       "      \"meta\": {},\n",
       "      \"id\": \"8b6ca3b9-50d9-41a7-9aac-f0795a99caf9\"\n",
       "    }\n",
       "  ],\n",
       "  \"meta\": {\n",
       "    \"great_expectations_version\": \"1.5.10\"\n",
       "  },\n",
       "  \"notes\": null\n",
       "}, id='03a4bd1d-0484-4f0a-9dbe-3200258a06cb')"
      ]
     },
     "execution_count": 55,
     "metadata": {},
     "output_type": "execute_result"
    }
   ],
   "source": [
    "raw_validation_definition = gx.ValidationDefinition(\n",
    "    name=\"raw\",\n",
    "    data=raw_bancos_batch_definition,\n",
    "    suite=raw_suite,\n",
    ")\n",
    "context.validation_definitions.add(raw_validation_definition)\n",
    "\n",
    "trusted_bancos_validation_definition = gx.ValidationDefinition(\n",
    "    name=\"trusted_bancos\",\n",
    "    data=trusted_bancos_batch_definition,\n",
    "    suite=trusted_bancos_suite,\n",
    ")\n",
    "context.validation_definitions.add(trusted_bancos_validation_definition)\n",
    "\n",
    "trusted_glassdoor_validation_definition = gx.ValidationDefinition(\n",
    "    name=\"trusted_glassdoor\",\n",
    "    data=trusted_glassdoor_batch_definition,\n",
    "    suite=trusted_glassdoor_suite,\n",
    ")\n",
    "context.validation_definitions.add(trusted_glassdoor_validation_definition)\n",
    "\n",
    "trusted_reclamacoes_validation_definition = gx.ValidationDefinition(\n",
    "    name=\"trusted_reclamacoes\",\n",
    "    data=trusted_reclamacoes_batch_definition,\n",
    "    suite=trusted_reclamacoes_suite,\n",
    ")\n",
    "context.validation_definitions.add(trusted_reclamacoes_validation_definition)\n",
    "\n",
    "delivery_validation_definition = gx.ValidationDefinition(\n",
    "    name=\"delivery\",\n",
    "    data=delivery_batch_definition,\n",
    "    suite=delivery_suite,\n",
    ")\n",
    "context.validation_definitions.add(delivery_validation_definition)\n"
   ]
  },
  {
   "cell_type": "code",
   "execution_count": 58,
   "id": "7b9e9684",
   "metadata": {},
   "outputs": [
    {
     "name": "stderr",
     "output_type": "stream",
     "text": [
      "Calculating Metrics: 100%|██████████| 4/4 [00:00<00:00, 777.37it/s] \n",
      "Calculating Metrics: 100%|██████████| 25/25 [00:00<00:00, 2274.32it/s]\n",
      "Calculating Metrics: 100%|██████████| 111/111 [00:00<00:00, 3550.27it/s]\n",
      "Calculating Metrics: 100%|██████████| 89/89 [00:00<00:00, 2544.17it/s]\n",
      "Calculating Metrics: 100%|██████████| 78/78 [00:00<00:00, 1910.07it/s]\n"
     ]
    }
   ],
   "source": [
    "checkpoint = context.checkpoints.add(\n",
    "    gx.Checkpoint(\n",
    "        name=\"atividade5_checkpoint\",\n",
    "        validation_definitions=context.validation_definitions.all(),\n",
    "        actions=[\n",
    "            gx.checkpoint.actions.UpdateDataDocsAction(\n",
    "                name=\"update_my_site\", site_names=[site_name]\n",
    "            )\n",
    "        ],\n",
    "    )\n",
    ")\n",
    "\n",
    "result = checkpoint.run()"
   ]
  },
  {
   "cell_type": "markdown",
   "id": "03fb87c8",
   "metadata": {},
   "source": [
    "## Open"
   ]
  },
  {
   "cell_type": "code",
   "execution_count": 59,
   "id": "e783b1b8",
   "metadata": {},
   "outputs": [],
   "source": [
    "context.open_data_docs()"
   ]
  }
 ],
 "metadata": {
  "kernelspec": {
   "display_name": ".venv",
   "language": "python",
   "name": "python3"
  },
  "language_info": {
   "codemirror_mode": {
    "name": "ipython",
    "version": 3
   },
   "file_extension": ".py",
   "mimetype": "text/x-python",
   "name": "python",
   "nbconvert_exporter": "python",
   "pygments_lexer": "ipython3",
   "version": "3.12.3"
  }
 },
 "nbformat": 4,
 "nbformat_minor": 5
}
